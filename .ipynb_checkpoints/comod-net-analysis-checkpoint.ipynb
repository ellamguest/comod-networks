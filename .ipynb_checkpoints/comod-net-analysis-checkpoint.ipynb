{
 "cells": [
  {
   "cell_type": "code",
   "execution_count": 1,
   "metadata": {
    "hideCode": false,
    "hidePrompt": false
   },
   "outputs": [],
   "source": [
    "from IPython.display import Image\n",
    "from functions import *\n",
    "from mod_timeline_figures import *\n",
    "%matplotlib inline\n",
    "\n",
    "'''INITIALIZE DATA'''\n",
    "date = '2017-10-27'\n",
    "output = output_dict(date)\n",
    "\n",
    "'''output['td']['desc_table'] = output['td']['desc_table'].reindex(['# nodes','# edges', '# components',\n",
    "                                             '# isolates', 'density','EI index','# BM partitions'])\n",
    "output['cmv']['desc_table'] = output['cmv']['desc_table'].reindex(['# nodes','# edges', '# components',\n",
    "                                             '# isolates', 'density','EI index','# BM partitions'])\n",
    "'''\n",
    "\n",
    "sub1 = 'td'\n",
    "subname1 = 'r/The_Donald'\n",
    "#mods1 = output[sub1]['mods']\n",
    "#subs1 = output[sub1]['subs']\n",
    "\n",
    "sub2 = 'cmv'\n",
    "subname2 = 'r/changemyview'\n",
    "#mods2 = output[sub2]['mods']\n",
    "#subs2 = output[sub2]['subs']\n",
    "\n",
    "'''UPDATE PLOTS'''\n",
    "def update_plots()\n",
    "    mod_count_plots(output['td'])\n",
    "    mod_count_plots(output['cmv'])\n",
    "    mod_count_headers = ['Mod Type', 'all_mods','active_mods', 'diff_%']\n",
    "\n",
    "    td_timeline()\n",
    "    cmv_timeline()\n",
    "\n",
    "    twomode_net_plot(output, 'td')\n",
    "    mod_net_plot(output, 'td')\n",
    "    sub_net_plot(output, 'td')\n",
    "\n",
    "    twomode_net_plot(output, 'cmv')\n",
    "    mod_net_plot(output, 'cmv')\n",
    "    sub_net_plot(output, 'cmv')"
   ]
  },
  {
   "cell_type": "markdown",
   "metadata": {
    "hideCode": false,
    "hidePrompt": false,
    "toc": true
   },
   "source": [
    "<h1>Table of Contents<span class=\"tocSkip\"></span></h1>\n",
    "<div class=\"toc\" style=\"margin-top: 1em;\"><ul class=\"toc-item\"><li><span><a href=\"#Research-Context\" data-toc-modified-id=\"Research-Context-1\"><span class=\"toc-item-num\">1&nbsp;&nbsp;</span>Research Context</a></span></li><li><span><a href=\"#Overview---Moderator-Counts\" data-toc-modified-id=\"Overview---Moderator-Counts-2\"><span class=\"toc-item-num\">2&nbsp;&nbsp;</span>Overview - Moderator Counts</a></span><ul class=\"toc-item\"><li><span><a href=\"#Moderator-Types\" data-toc-modified-id=\"Moderator-Types-2.1\"><span class=\"toc-item-num\">2.1&nbsp;&nbsp;</span>Moderator Types</a></span></li><li><span><a href=\"#Moderator-Activity-Counts\" data-toc-modified-id=\"Moderator-Activity-Counts-2.2\"><span class=\"toc-item-num\">2.2&nbsp;&nbsp;</span>Moderator Activity Counts</a></span></li></ul></li><li><span><a href=\"#Moderation-Timelines\" data-toc-modified-id=\"Moderation-Timelines-3\"><span class=\"toc-item-num\">3&nbsp;&nbsp;</span>Moderation Timelines</a></span><ul class=\"toc-item\"><li><span><a href=\"#r/The_Donald\" data-toc-modified-id=\"r/The_Donald-3.1\"><span class=\"toc-item-num\">3.1&nbsp;&nbsp;</span>r/The_Donald</a></span><ul class=\"toc-item\"><li><span><a href=\"#r/The_Donald-Moderator-Presence-Timeline\" data-toc-modified-id=\"r/The_Donald-Moderator-Presence-Timeline-3.1.1\"><span class=\"toc-item-num\">3.1.1&nbsp;&nbsp;</span>r/The_Donald Moderator Presence Timeline</a></span></li><li><span><a href=\"#Moderator-Attributes-and-Eras\" data-toc-modified-id=\"Moderator-Attributes-and-Eras-3.1.2\"><span class=\"toc-item-num\">3.1.2&nbsp;&nbsp;</span>Moderator Attributes and Eras</a></span></li><li><span><a href=\"#Event-reference-lines\" data-toc-modified-id=\"Event-reference-lines-3.1.3\"><span class=\"toc-item-num\">3.1.3&nbsp;&nbsp;</span>Event reference lines</a></span></li></ul></li><li><span><a href=\"#r/changemyview\" data-toc-modified-id=\"r/changemyview-3.2\"><span class=\"toc-item-num\">3.2&nbsp;&nbsp;</span>r/changemyview</a></span><ul class=\"toc-item\"><li><span><a href=\"#r/changemyview-Moderator-Presence-Timeline\" data-toc-modified-id=\"r/changemyview-Moderator-Presence-Timeline-3.2.1\"><span class=\"toc-item-num\">3.2.1&nbsp;&nbsp;</span>r/changemyview Moderator Presence Timeline</a></span></li><li><span><a href=\"#Moderator-Attributes-and-Eras\" data-toc-modified-id=\"Moderator-Attributes-and-Eras-3.2.2\"><span class=\"toc-item-num\">3.2.2&nbsp;&nbsp;</span>Moderator Attributes and Eras</a></span></li></ul></li><li><span><a href=\"#Summary\" data-toc-modified-id=\"Summary-3.3\"><span class=\"toc-item-num\">3.3&nbsp;&nbsp;</span>Summary</a></span></li></ul></li><li><span><a href=\"#Co-moderation-Networks\" data-toc-modified-id=\"Co-moderation-Networks-4\"><span class=\"toc-item-num\">4&nbsp;&nbsp;</span>Co-moderation Networks</a></span><ul class=\"toc-item\"><li><span><a href=\"#Basic-Network-Statistics\" data-toc-modified-id=\"Basic-Network-Statistics-4.1\"><span class=\"toc-item-num\">4.1&nbsp;&nbsp;</span>Basic Network Statistics</a></span></li><li><span><a href=\"#Moderator-Type-Homophily\" data-toc-modified-id=\"Moderator-Type-Homophily-4.2\"><span class=\"toc-item-num\">4.2&nbsp;&nbsp;</span>Moderator Type Homophily</a></span></li><li><span><a href=\"#Network-Visuals\" data-toc-modified-id=\"Network-Visuals-4.3\"><span class=\"toc-item-num\">4.3&nbsp;&nbsp;</span>Network Visuals</a></span><ul class=\"toc-item\"><li><span><a href=\"#Two-Mode-Networks\" data-toc-modified-id=\"Two-Mode-Networks-4.3.1\"><span class=\"toc-item-num\">4.3.1&nbsp;&nbsp;</span>Two-Mode Networks</a></span></li><li><span><a href=\"#One-Mode-Moderator-Networks\" data-toc-modified-id=\"One-Mode-Moderator-Networks-4.3.2\"><span class=\"toc-item-num\">4.3.2&nbsp;&nbsp;</span>One-Mode Moderator Networks</a></span></li></ul></li><li><span><a href=\"#One-Mode-Subreddit-Network\" data-toc-modified-id=\"One-Mode-Subreddit-Network-4.4\"><span class=\"toc-item-num\">4.4&nbsp;&nbsp;</span>One-Mode Subreddit Network</a></span></li></ul></li><li><span><a href=\"#Future-Steps\" data-toc-modified-id=\"Future-Steps-5\"><span class=\"toc-item-num\">5&nbsp;&nbsp;</span>Future Steps</a></span><ul class=\"toc-item\"><li><span><a href=\"#Moderation-Timelines\" data-toc-modified-id=\"Moderation-Timelines-5.1\"><span class=\"toc-item-num\">5.1&nbsp;&nbsp;</span>Moderation Timelines</a></span></li><li><span><a href=\"#Co-moderation-network\" data-toc-modified-id=\"Co-moderation-network-5.2\"><span class=\"toc-item-num\">5.2&nbsp;&nbsp;</span>Co-moderation network</a></span></li></ul></li></ul></div>"
   ]
  },
  {
   "cell_type": "markdown",
   "metadata": {
    "hideCode": false,
    "hidePrompt": false
   },
   "source": [
    "# Research Context\n",
    "\n",
    "Online communities often have the freedom, and responsibility, to define their own community norms.  The social news site Reddit is an example of a platform that imposes no editorial control over content produced. Reddit’s administrators instead encourage users to create topic-based forums, called subreddits, according to their own desires and to develop unique standards of acceptable behaviours. A small number of community members who volunteer as moderators together with the wider community of non-moderating contributors work to define the purpose and tone of their subreddits, and detail a code of conduct for participating in the space. These developments are made both implicitly and explicitly and can highlight irreconcilable desires within the community. As such Reddit makes a fascinating subject of study for gaining understanding of the techniques and methods members and moderators of online communities use in the delicate process of norm-setting.\n",
    "\n",
    "This research is in the early stages of defining the theoretical and methodological considerations required in researching the processes of norm-setting by subreddit communities. I am currently piloting this work by studying two distinct subreddits; r/The_Donald - a community for ardent supporters of Donald Trump - and r/changemyview – a forum where users actively encourage others to try to change their opinions on any given topic. I am seeking to identify changes in the respective moderator networks of r/The_Donald and r/ChangeMyView moderators over time, and how possible ‘moderation eras’ correspond with different eras of community norms and standards within each community.\n",
    "\n",
    "These particular communities are of substantive interest because they highlight the variety of ways in which subreddits can operate, and the kind of positioning subreddits can have within the wider reddit community. r/The_Donald operates as a safe space, or echo chamber, for supporters of Donald Trump, any dissenting opinions are banned. At the same time, the subreddit’s moderators have a fraught relationship with reddit employees, the ‘admins’, who they accuse of censoring r/The_Donald content from the wider platform. This juxtaposition raises interesting theoretical considerations for the meaning of free speech on the platform. Conversely, r/changemyview exists as a space for rational, well evidenced and argued exchanges of opinion. Posts are rarely banned for what content they say but for whether it is contributed in accordance with strict submission standards. \n"
   ]
  },
  {
   "cell_type": "markdown",
   "metadata": {
    "hideCode": false,
    "hidePrompt": false,
    "variables": {
     "output[sub1]['mod_counts'][mod_count_headers].T": "<div>\n<style>\n    .dataframe thead tr:only-child th {\n        text-align: right;\n    }\n\n    .dataframe thead th {\n        text-align: left;\n    }\n\n    .dataframe tbody tr th {\n        vertical-align: top;\n    }\n</style>\n<table border=\"1\" class=\"dataframe\">\n  <thead>\n    <tr style=\"text-align: right;\">\n      <th></th>\n      <th>1</th>\n      <th>2</th>\n      <th>3</th>\n      <th>4</th>\n    </tr>\n  </thead>\n  <tbody>\n    <tr>\n      <th>Mod Type</th>\n      <td>former non-top</td>\n      <td>former top</td>\n      <td>current non-top</td>\n      <td>current top</td>\n    </tr>\n    <tr>\n      <th>all_mods</th>\n      <td>167</td>\n      <td>33</td>\n      <td>26</td>\n      <td>7</td>\n    </tr>\n    <tr>\n      <th>active_mods</th>\n      <td>66</td>\n      <td>13</td>\n      <td>26</td>\n      <td>7</td>\n    </tr>\n    <tr>\n      <th>diff_%</th>\n      <td>0.834711</td>\n      <td>0.165289</td>\n      <td>0</td>\n      <td>0</td>\n    </tr>\n  </tbody>\n</table>\n</div>",
     "output[sub2]['mod_counts'][mod_count_headers]": "<div>\n<style>\n    .dataframe thead tr:only-child th {\n        text-align: right;\n    }\n\n    .dataframe thead th {\n        text-align: left;\n    }\n\n    .dataframe tbody tr th {\n        vertical-align: top;\n    }\n</style>\n<table border=\"1\" class=\"dataframe\">\n  <thead>\n    <tr style=\"text-align: right;\">\n      <th></th>\n      <th>Mod Type</th>\n      <th>all_mods</th>\n      <th>active_mods</th>\n      <th>diff_%</th>\n    </tr>\n  </thead>\n  <tbody>\n    <tr>\n      <th>1</th>\n      <td>former non-top</td>\n      <td>9</td>\n      <td>4</td>\n      <td>0.416667</td>\n    </tr>\n    <tr>\n      <th>2</th>\n      <td>former top</td>\n      <td>17</td>\n      <td>10</td>\n      <td>0.583333</td>\n    </tr>\n    <tr>\n      <th>3</th>\n      <td>current non-top</td>\n      <td>1</td>\n      <td>1</td>\n      <td>0.000000</td>\n    </tr>\n    <tr>\n      <th>4</th>\n      <td>current top</td>\n      <td>26</td>\n      <td>26</td>\n      <td>0.000000</td>\n    </tr>\n  </tbody>\n</table>\n</div>"
    }
   },
   "source": [
    "# Overview - Moderator Counts\n",
    "\n",
    "\n",
    "The complete co-moderation network for each subreddit includes all redditors to have ever been a moderator of the ego subreddit. However, for the purposes of the network analysis I am only interested in those redditors who still moderate at least one subreddit. Thus redditors who do not moderate at al at the time of data collection, or whose account are no longer active are removed from the data for network analysis. I refer the the subset of currently moderating redditors as ‘active mods’. \n",
    "\n",
    "## Moderator Types\n",
    "\n",
    "There exists a strict hierarchy of moderator permissions types and seniority across all subreddits. For the purposes of the current research I do not address the full variety of permissions types, but dichotomise between **‘top’** moderators – those with full permissions, and **‘non-tops’**, those without. The most important benefit of being a top moderator is having the ability to add or remove other moderators. All top moderators share the same abilities except in the case of changing the permissions of other moderators. A top moderator can only change the permissions of, or remove as moderator, a moderator younger than themselves. A strict time-based seniority exists in this way regardless of permissions levels.\n",
    "\n",
    "I have also separated moderators into those who currently moderator the ego subreddit and those who formerly moderated the ego subreddit. Thus there are four categories of moderator types:\n",
    "\n",
    "1. **Current tops** - those who are currently moderators in the ego subreddit, and have at any point had full moderator permissions\n",
    "2. **Current non-tops** - those are current moderators and have never had full permissions\n",
    "3. **Former tops** - those who do not currently moderate the ego subreddit but at one point had full moderator permisisons\n",
    "4. **Former non-tops** - those who formerly moderated the ego subreddit but never had full permiissions\n",
    "\n",
    "It is of interest to see how many mods, and of which mod type, are no longer active.\n",
    "\n",
    "## Moderator Activity Counts\n",
    "\n",
    "The following tables and plots compare the breakdown of *total* and *active* moderators by mod type.\n",
    "\n",
    "<table>\n",
    "    <tr>\n",
    "        <th  style=\"text-align: center\">r/The_Donald moderator counts</th>\n",
    "        <th  style=\"text-align: center\">r/The_Donald mod type counts</th>\n",
    "    </tr>\n",
    "    <tr>\n",
    "        <td>{{output[sub1]['mod_counts'][mod_count_headers].T}}</td>\n",
    "        <td><img src=\"td_mod_count_plots.png\"></td>\n",
    "\n",
    "    </tr>\n",
    "</table>\n",
    "\n",
    "83% of former non-top moderators of r/The_Donald no longer moderate any subreddits, compared to only 17% of former tops. This could be due to the existence of 'dummy accounts', which were only created for a brief purpose and were later deactivated.\n",
    "\n",
    "<table>\n",
    "    <tr>\n",
    "        <th  style=\"text-align: center\">r/changemyview moderator counts</th>\n",
    "        <th  style=\"text-align: center\">r/changemyview moderator counts</th>\n",
    "    </tr>\n",
    "    <tr>\n",
    "        <td>{{output[sub2]['mod_counts'][mod_count_headers]}}</td>\n",
    "        <td><img src=\"cmv_mod_count_plots.png\"></td>\n",
    "    </tr>\n",
    "</table>\n",
    "\n",
    "Comparatively for r/changemyview, 41% of former non-tops and 58% of former tops currently do not moderator any subreddits. However, given the small sample numbers for each mod type in r/changemyview\n",
    "\n",
    "From the figures it is clear that the majority of redditors to ever moderate r/The_Donald are former non-tops while for r/changemyview the majority are current tops. This suggests two differences in the moderator network.\n",
    "\n",
    "1) **Moderation tenure is more unstable in r/The_Donald.**\n",
    "\n",
    "Though r/changemyview is older, r/The_Donald has had *check number - about 3 times as many??* moderators and the majority of these moderators have left the network. This can be seem more clearly in the moderation timelines in the next section.\n",
    "\n",
    "2) **Moderation power is more dispersed in r/changemyview.**\n",
    "\n",
    "The majority of mods to ever appear in the r/changemyview network are or have been top moderators *add percentage*. In r/The_Donald only a fraction of moderators have had full permissions *add percentage**. \n",
    "\n",
    "*Lead into how the co-mod networks will explore this"
   ]
  },
  {
   "cell_type": "markdown",
   "metadata": {
    "hideCode": false,
    "hidePrompt": false
   },
   "source": [
    "# Moderation Timelines\n",
    "\n",
    "The first part of my research examines the changes in the group of moderators in each subreddit over time. I am particularly interested in when moderators entered/left/re-entered and what level of permissions they held at anytime.  By first understanding the patterns of the moderation group, my aim is to ultimately address the following general research questions:\n",
    "\n",
    "* How much influence do moderators have on the norm-setting process of subreddits?\n",
    "* Is this influence administered in a more implicit or explicit manner?\n",
    "* Do these relate to certain characteristics of the subreddit, in particular content?\n",
    "\n",
    "###### Hypothesis 1A: Changes in top moderator(s) will be followed by changes in the overall moderator groups as non-top mods join or leave in support of leaders\n",
    "\n",
    "To be effective mod groups will need at least one member to be a top moderator, ideally a senior top mod.\n",
    "This hypothesis tests whether moderators do work in groups, and whether these groups are led by mods with greater powers\n",
    "When a group of moderators join or leave together this will be called a ‘moderation era’\n",
    "\n",
    "###### Hypothesis 1B: These ‘moderation eras’ will correspond with changes in the a) norm standards and b) content of the subreddit.\n",
    "If moderation groups are found, as being part of the same moderation era, this hypothesis tests to what extent the groups shares a common interest for the subreddit\n",
    "If groups share reflected in the other subreddits they choose to moderate. This leads to the analysis of the co-moderation network\n",
    "\n",
    "\n",
    "## r/The_Donald\n",
    "\n",
    "### r/The_Donald Moderator Presence Timeline\n",
    "\n",
    "![r/The_Donald Presence Timeline](td_mod_timeline.png)\n",
    "\n",
    "### Moderator Attributes and Eras\n",
    "\n",
    "Moderator lines are coloured by whether they are a current (red) or former (blue) moderator. Time sections when a moderator had top moderator permissions are shown in a darker shade of red or blue, respectively.  The timeline shows that the group of moderators has been unstable as only a fraction of all moderators are still present and many moderators have left and returned (shown by the number of broken lines). New moderators are added in chunks at various time points, often following the making of a new ‘top’ moderator, one with full permissions. This offers some support for hypothesis 1A. However not all moderation eras are preceded by top moderators, some appear to be related to offline and online events.\n",
    "\n",
    "The timeline shows that no current moderators of r/The_Donald have been in the network since the subreddit was created. Some of the current non-tops joined together around *time?* and only brielfy left the network at times of fracture *times w/ white lines*. In particular, most of the current top moderators have also had fractured history lines, as they have either left the network at some point and/or previously held a non-top position. Most important to note are the multiple shelf like features in the timeline. These periods of time when many, if not most, moderators were removed or added as moderators en masse, in a brief period of time. This could only be done by a senior top mod. I posit that these mass mod migrations occur when the leading top mod(s) want to restructure the moderator in some way, or when the most senior top mod hands over power to another moderator. \n",
    "\n",
    "### Event reference lines\n",
    "\n",
    "The four event reference lines on the timeline mark two offline (in black) and two online (in green) events. The offline, real world events are the date of the 2016 US Presidential election and the 2017 inauguration of Donald Trump as president. A few moderators entered, or re-entered the timeline at the time of Trump’s election and a large group entered around a week after the inauguration. This suggests that changes in the group of moderators may correspond with real world Trump related events, especially as new or returning Trump supporters respond to his real world successes. The green lines correspond with events that highlight the strained and controversial relationship between TD moderators and the employees of reddit, know as the admins. This suggests that subreddit members may react to the perceived external threat by admins to become moderators of the subreddit. This may have interesting implications for the way in which these moderators seek to run the subreddit."
   ]
  },
  {
   "cell_type": "markdown",
   "metadata": {
    "hideCode": false,
    "hidePrompt": false
   },
   "source": [
    "## r/changemyview\n",
    "\n",
    "### r/changemyview Moderator Presence Timeline\n",
    "\n",
    "![r/changemyview Presence Timeline](cmv_mod_timeline.png)\n",
    "\n",
    "### Moderator Attributes and Eras\n",
    "\n",
    "The timeline for r/changemyview (CMV) shows that the moderator network is much more stable and less hierarchical compared to TD. New moderators have been added at a steady rate. There are two time points when groups of moderators left together, around June 2015 and February 2017. These will likely correspond with times of explicit change within the community. Otherwise the most notable finding is the three short moderation eras, which occurred around July 2013 and December 2013, when the same group of about 10 moderators were briefly added together three separate times. As it was in the early days of the subreddit, I expect this to correspond with changes in the explicit norm-setting process of the subreddit.\n",
    "\n",
    "\n",
    "## Summary\n",
    "\n",
    "The moderator timelines offer a visual representation of the stability of the r/changemyview moderator networks and the relative instability of the r/The_Donald moderator network. r/The_Donald is less stable is terms of the consistency of moderator presensence over time and is inequal in the sharing of moderator permission, compared to r/changemyview. There is some evidence in both subreddits to supprt Hypothesis 1A that changes in top moderator(s) are followed by changes in the overall moderator groups. However, this is more strongly seen in r/The_Donald where top power is more centrally held. To address Hypothesis 1B further analysis is needed to consider the actual activity of moderators in the subreddit..."
   ]
  },
  {
   "cell_type": "markdown",
   "metadata": {
    "hideCode": false,
    "hidePrompt": false,
    "variables": {
     "output[sub1]['desc_table']": "<p><strong>NameError</strong>: name &#39;output&#39; is not defined</p>\n",
     "output[sub2]['desc_table']": "<p><strong>NameError</strong>: name &#39;output&#39; is not defined</p>\n"
    }
   },
   "source": [
    "# Co-moderation Networks\n",
    "\n",
    "The second stage of the research is to examine the co-moderation network for each subreddit. The co-moderation network is a one-mode projection for the two-mode moderator by subreddits network. Moderators are tied if they currently moderate a shared subreddit other than CMV or TD, respectively. On the assumption that moderators have some level of influence over their subreddits, I am seeking to determine whether types of influence are correlated with features of the co-moderation network. Example general research questions are:\n",
    "\n",
    "* Do the most influential moderators:\n",
    "    * moderator many disparate communities?\n",
    "    * show niche moderating interests?\n",
    "    * or exclusively moderator a single community?\n",
    "* Following from Hypothesis 1B:\n",
    "    * Do moderators act together in groups?\n",
    "    * Do these groups reflect content or form based cohesion? \n",
    "    * Do moderators group to impose their influence together?\n",
    "\n",
    "###### Hypothesis 2A: Redditors who moderate the target subreddit during the same period will tend to also co-moderator other subreddits\n",
    "This hypothesis tests whether groups of moderators determined by moderation eras show homophily in terms of content interests.\n",
    "\n",
    "###### Hypothesis 2B: Those subreddit clusters will be indicative of mods’ content interests for the target subreddit.\n",
    "If it is determined that moderation era groups do have similar interests, I will then begin looking at the changes in implicit and explicit norms in the subreddits in the third part of this research.\n",
    "\n",
    "\n",
    "## Basic Network Statistics\n",
    "\n",
    "The following table shows the breakdown of current and former CMV mods by current moderation status. Only 15% of moderators of CMV have been non-top moderators. From the above timeline we see that moderator permission types are stable, moderators always remain either top or non-top through out their tenure. Importantly, the only current non-top moderator is a non-human bot. All former CMV moderators still have active accounts, half currently do not moderate any subreddits and one third moderate at least one subreddit but are not connected to the co-moderation network. Only three former moderators are part of the current co-moderation network, suggesting a clearer distinction between former and current moderators.\n",
    "\n",
    "<center>**Subreddit Network Statistics**<center>\n",
    "\n",
    "<table>\n",
    "    <tr>\n",
    "        <td>{{output[sub1]['desc_table']}}</td>\n",
    "        <td>{{output[sub2]['desc_table']}}</td>\n",
    "    </tr>\n",
    "</table>"
   ]
  },
  {
   "cell_type": "code",
   "execution_count": 23,
   "metadata": {
    "hideCode": false,
    "hidePrompt": false
   },
   "outputs": [
    {
     "name": "stdout",
     "output_type": "stream",
     "text": [
      "---------------  ------  -------\n",
      "# nodes           68      498\n",
      "# edges          509     6195\n",
      "# components       3       20\n",
      "# isolates         0        0\n",
      "density            0.22     0.05\n",
      "EI index           0.27    -1\n",
      "# BM partitions   11       71\n",
      "---------------  ------  -------\n",
      "\n",
      "                 r/changemyview_mods  r/changemyview_subs\n",
      "# nodes                        29.00               214.00\n",
      "# edges                       239.00              2811.00\n",
      "# components                    1.00                 5.00\n",
      "# isolates                      0.00                 0.00\n",
      "density                         0.59                 0.12\n",
      "EI index                       -0.85                -1.00\n",
      "# BM partitions                 7.00                19.00\n"
     ]
    }
   ],
   "source": [
    "from tabulate import tabulate\n",
    "\n",
    "print(tabulate(output['td']['desc_table'].round(decimals=2)))\n",
    "print()\n",
    "print(output['cmv']['desc_table'].round(decimals=2))"
   ]
  },
  {
   "cell_type": "code",
   "execution_count": 18,
   "metadata": {},
   "outputs": [],
   "source": [
    "tabulate??"
   ]
  },
  {
   "cell_type": "markdown",
   "metadata": {
    "hideCode": false,
    "hidePrompt": false
   },
   "source": [
    "## Moderator Type Homophily\n",
    "\n",
    "The tables above show the Krackhardt E/I Ratio for each of the one-mode networks. This is only relevant in the moderator networks, where moderators are grouped by their moderator type (current/former, top/non-top). Edges are 'within type' if the nodes share the same moderator status, example they are both former tops. Edges are 'between types' if the nodes have different moderator types, example one current top and one former non-top. Thus the E-I index is this application was computed by:\n",
    "\n",
    "$$\\frac{\\textrm{number of between type edges} - \\textrm{number of within type edges}}{\\textrm{total number of edges}}$$\n",
    "\n",
    "An E-I index of -1 means all edges are within group (homophily), +1 means all edges are between group (heterophily). The r/The_Donald moderator network was an E-I index of 0.27 - there are slightly more ties external to groups than internal, suggesting some heterophily between moderator types. The r/changemyview moderator network was an E-I index of -0.85 - there are many more ties interal to groups than external, suggesting significant homophily between moderator types. However, this is to be expected given that 1/2 of all redditors to ever moderate r/changemyview (and 63% of those who are still active moderators of some kind) belong to the current top group. Current top moderators thus have greater opportunity to form edges with other current tops.\n"
   ]
  },
  {
   "cell_type": "markdown",
   "metadata": {
    "hideCode": false,
    "hidePrompt": false,
    "variables": {
     "subname1": "<p><strong>NameError</strong>: name &#39;subname1&#39; is not defined</p>\n",
     "subname2": "<p><strong>NameError</strong>: name &#39;subname2&#39; is not defined</p>\n"
    }
   },
   "source": [
    "## Network Visuals\n",
    "\n",
    "### Two-Mode Networks\n",
    "\n",
    "<table>\n",
    "    <tr>\n",
    "        <th  style=\"text-align: center\">{{subname1}}</th>\n",
    "        <th  style=\"text-align: center\">{{subname2}}</th>\n",
    "    </tr>\n",
    "    <tr>\n",
    "        <td><img src='twomode_net_td.png'></td>\n",
    "        <td><img src='twomode_net_cmv.png'></td>\n",
    "    </tr>\n",
    "</table>"
   ]
  },
  {
   "cell_type": "markdown",
   "metadata": {
    "hideCode": false,
    "hidePrompt": false,
    "variables": {
     "subname1": "<p><strong>NameError</strong>: name &#39;subname1&#39; is not defined</p>\n",
     "subname2": "<p><strong>NameError</strong>: name &#39;subname2&#39; is not defined</p>\n"
    }
   },
   "source": [
    "### One-Mode Moderator Networks\n",
    "\n",
    "As more than half of users to ever moderate CMV are current top moderators, it is obvious that they will form the majority of the current co-moderation network (87%). Compared to the TD co-moderation network, there is much less opportunity for variety in the status of moderators in the network. However, an examination of the subreddit network will determine which subreddits connect the 3 former moderators to the network, and which few subreddits seem to densely connect most current moderators. I also seek to account for the temporal aspect for current moderators, by seeing if those who joined at the same time show any tendency towards other similar subreddits. \n",
    "\n",
    "<table>\n",
    "    <tr>\n",
    "        <th  style=\"text-align: center\">{{subname1}}</th>\n",
    "        <th  style=\"text-align: center\">{{subname2}}</th>\n",
    "    </tr>\n",
    "    <tr>\n",
    "        <td><img src=\"mod_net_td.png\"></td>\n",
    "        <td><img src=\"mod_net_cmv.png\"></td>\n",
    "    </tr>\n",
    "</table>"
   ]
  },
  {
   "cell_type": "markdown",
   "metadata": {
    "hideCode": false,
    "hidePrompt": false,
    "variables": {
     "subname1": "<p><strong>NameError</strong>: name &#39;subname1&#39; is not defined</p>\n",
     "subname2": "<p><strong>NameError</strong>: name &#39;subname2&#39; is not defined</p>\n"
    }
   },
   "source": [
    "## One-Mode Subreddit Network\n",
    "\n",
    "<table>\n",
    "    <tr>\n",
    "        <th  style=\"text-align: center\">{{subname1}}</th>\n",
    "        <th  style=\"text-align: center\">{{subname2}}</th>\n",
    "    </tr>\n",
    "    <tr>\n",
    "        <td><img src=\"sub_net_td.png\"></td>\n",
    "        <td><img src=\"sub_net_cmv.png\"></td>\n",
    "    </tr>\n",
    "</table>"
   ]
  },
  {
   "cell_type": "markdown",
   "metadata": {
    "hideCode": false,
    "hidePrompt": false
   },
   "source": [
    "# Future Steps\n",
    "(update from former...)\n",
    "\n",
    "## Moderation Timelines\n",
    "\n",
    "I plan to then use text analysis techniques to examine whether shifts in the moderator network correspond to shifts in the informal community discussions and formal moderator controlled standards of behaviour – i.e. the implicit and explicit sources of community norms on r/The_Donald and r/ChangeMyView. My first step is to look deeper into moderation eras transition periods. Then looking at top posts and comments for sentiment and text analysis, i.e. implicit changes in subreddit norms and changes in subreddit formal documents (ex wikis, sidebar) for explicit changes in norms\n",
    "\n",
    "## Co-moderation network\n",
    "\n",
    "I will extend my analysis of the co-moderation network to consider possible content clusters as outlined in hypothesis 2B. This may take the form of two-mode blockmodeling of moderators by subreddits. However I would first like to better address the issue of the longitudinal nature of the  moderator data. Dichotomising moderators as current/former loses meaning of possible ‘moderation eras’. At present I only have data on the subreddits currently moderated while it is more important which subreddits formers moderators co-moderated at the time they moderated CMV or TD.\n",
    "\n"
   ]
  },
  {
   "cell_type": "code",
   "execution_count": null,
   "metadata": {
    "hideCode": false,
    "hidePrompt": false
   },
   "outputs": [],
   "source": []
  }
 ],
 "metadata": {
  "author": "Ella Guest",
  "hide_code_all_hidden": false,
  "kernelspec": {
   "display_name": "Python 3",
   "language": "python",
   "name": "python3"
  },
  "language_info": {
   "codemirror_mode": {
    "name": "ipython",
    "version": 3
   },
   "file_extension": ".py",
   "mimetype": "text/x-python",
   "name": "python",
   "nbconvert_exporter": "python",
   "pygments_lexer": "ipython3",
   "version": "3.6.3"
  },
  "title": "Test Notebook",
  "toc": {
   "nav_menu": {},
   "number_sections": true,
   "sideBar": false,
   "skip_h1_title": false,
   "toc_cell": true,
   "toc_position": {
    "height": "457px",
    "left": "1031px",
    "right": "20px",
    "top": "110px",
    "width": "212px"
   },
   "toc_section_display": "none",
   "toc_window_display": true
  }
 },
 "nbformat": 4,
 "nbformat_minor": 2
}
